{
 "cells": [
  {
   "cell_type": "markdown",
   "metadata": {},
   "source": [
    "# Objective for Part 1\n",
    "\n",
    "We will perform the following:\n",
    "- Download the public data set and perform data cleaning:\n",
    "- Identify and clean missing values.\n",
    "- Convert texts to lower cases and remove punctuations."
   ]
  },
  {
   "cell_type": "markdown",
   "metadata": {},
   "source": [
    "Our first step will be to understand the source of data we will be analysing.\n",
    "\n",
    "Go to --> \"Data set for automatic detection of online misogynistic speech\" (https://www.sciencedirect.com/science/article/pii/S2352340919305773)"
   ]
  },
  {
   "cell_type": "code",
   "execution_count": 1,
   "metadata": {},
   "outputs": [],
   "source": [
    "# Step 2: Import pandas\n",
    "import pandas as pd"
   ]
  },
  {
   "cell_type": "code",
   "execution_count": 2,
   "metadata": {},
   "outputs": [],
   "source": [
    "# Step 3: Read the CSV and specify the right encoding\n",
    "df = pd.read_csv('ManualTag_Misogyny.csv', encoding='latin-1')"
   ]
  },
  {
   "cell_type": "code",
   "execution_count": 3,
   "metadata": {},
   "outputs": [
    {
     "name": "stdout",
     "output_type": "stream",
     "text": [
      "Definition     0\n",
      "is_misogyny    1\n",
      "dtype: int64\n"
     ]
    }
   ],
   "source": [
    "# Step 4: Count the sum of null values in your columns\n",
    "print(df.isnull().sum())"
   ]
  },
  {
   "cell_type": "code",
   "execution_count": 4,
   "metadata": {},
   "outputs": [
    {
     "name": "stdout",
     "output_type": "stream",
     "text": [
      "                                             Definition  is_misogyny\n",
      "1251  When someone makes a post on Facebook and you ...          NaN\n"
     ]
    }
   ],
   "source": [
    "# Step 5: Find the index of the row containing missing row\n",
    "index = df[df['is_misogyny'].isnull()].index\n",
    "print(df.loc[index])"
   ]
  },
  {
   "cell_type": "code",
   "execution_count": 5,
   "metadata": {},
   "outputs": [
    {
     "data": {
      "text/plain": [
       "1251    When someone makes a post on Facebook and you ...\n",
       "Name: Definition, dtype: object"
      ]
     },
     "execution_count": 5,
     "metadata": {},
     "output_type": "execute_result"
    }
   ],
   "source": [
    "# Step 6: Read the definition of the row with missing value\n",
    "df['Definition'].loc[index]"
   ]
  },
  {
   "cell_type": "code",
   "execution_count": 6,
   "metadata": {},
   "outputs": [],
   "source": [
    "# Step 7: Fill the Nan with 0\n",
    "df['is_misogyny'] = df['is_misogyny'].fillna(0)"
   ]
  },
  {
   "cell_type": "code",
   "execution_count": 7,
   "metadata": {},
   "outputs": [
    {
     "name": "stdout",
     "output_type": "stream",
     "text": [
      "Definition     0\n",
      "is_misogyny    0\n",
      "dtype: int64\n"
     ]
    }
   ],
   "source": [
    "# Step 8: Check the sum of nulls again\n",
    "print(df.isnull().sum())"
   ]
  },
  {
   "cell_type": "code",
   "execution_count": 8,
   "metadata": {},
   "outputs": [
    {
     "data": {
      "text/plain": [
       "0.0    1252\n",
       "1.0    1034\n",
       "Name: is_misogyny, dtype: int64"
      ]
     },
     "execution_count": 8,
     "metadata": {},
     "output_type": "execute_result"
    }
   ],
   "source": [
    "# Step 10: Count the values for 'is_misogyny' column\n",
    "df['is_misogyny'].value_counts()"
   ]
  },
  {
   "cell_type": "code",
   "execution_count": 9,
   "metadata": {},
   "outputs": [],
   "source": [
    "# Step 10: Create a new column that contains no punctuation\n",
    "df['cleaned_definition'] = df['Definition'].str.replace('[^\\w\\s]','')"
   ]
  },
  {
   "cell_type": "code",
   "execution_count": 10,
   "metadata": {},
   "outputs": [],
   "source": [
    "# Step 11: Lowercase the values in 'cleaned_definition'\n",
    "df['cleaned_definition'] = df['cleaned_definition'] .str.lower()"
   ]
  },
  {
   "cell_type": "code",
   "execution_count": 14,
   "metadata": {},
   "outputs": [],
   "source": [
    "# Step 12: Export the DataFrame to CSV\n",
    "df.to_csv('ManualTag_Misogyny_Clean.csv', index=False)"
   ]
  },
  {
   "cell_type": "code",
   "execution_count": 15,
   "metadata": {
    "scrolled": true
   },
   "outputs": [
    {
     "name": "stdout",
     "output_type": "stream",
     "text": [
      "<class 'pandas.core.frame.DataFrame'>\n",
      "RangeIndex: 2286 entries, 0 to 2285\n",
      "Data columns (total 3 columns):\n",
      " #   Column              Non-Null Count  Dtype  \n",
      "---  ------              --------------  -----  \n",
      " 0   Definition          2286 non-null   object \n",
      " 1   is_misogyny         2286 non-null   float64\n",
      " 2   cleaned_definition  2286 non-null   object \n",
      "dtypes: float64(1), object(2)\n",
      "memory usage: 53.7+ KB\n"
     ]
    }
   ],
   "source": [
    "df.info()"
   ]
  }
 ],
 "metadata": {
  "kernelspec": {
   "display_name": "Python 3",
   "language": "python",
   "name": "python3"
  },
  "language_info": {
   "codemirror_mode": {
    "name": "ipython",
    "version": 3
   },
   "file_extension": ".py",
   "mimetype": "text/x-python",
   "name": "python",
   "nbconvert_exporter": "python",
   "pygments_lexer": "ipython3",
   "version": "3.8.3"
  }
 },
 "nbformat": 4,
 "nbformat_minor": 4
}
